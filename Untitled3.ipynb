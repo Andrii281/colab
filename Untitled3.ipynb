{
  "nbformat": 4,
  "nbformat_minor": 0,
  "metadata": {
    "colab": {
      "provenance": [],
      "authorship_tag": "ABX9TyPXnugcmn4gyBQFuf+lxyEU",
      "include_colab_link": true
    },
    "kernelspec": {
      "name": "python3",
      "display_name": "Python 3"
    },
    "language_info": {
      "name": "python"
    }
  },
  "cells": [
    {
      "cell_type": "markdown",
      "metadata": {
        "id": "view-in-github",
        "colab_type": "text"
      },
      "source": [
        "<a href=\"https://colab.research.google.com/github/Andrii281/colab/blob/figure/Untitled3.ipynb\" target=\"_parent\"><img src=\"https://colab.research.google.com/assets/colab-badge.svg\" alt=\"Open In Colab\"/></a>"
      ]
    },
    {
      "cell_type": "code",
      "execution_count": null,
      "metadata": {
        "id": "C-KUGYkNR2X2"
      },
      "outputs": [],
      "source": [
        "import numpy as np\n",
        "import matplotlib.pyplot as plt\n",
        "from tensorflow.keras.datasets import mnist\n",
        "from tensorflow import keras\n",
        "from tensorflow.keras.layers import Dense, Flatten\n",
        "%matplotlib inline"
      ]
    },
    {
      "cell_type": "code",
      "source": [
        "(x_train, y_train), (x_test, y_test) = mnist.load_data()"
      ],
      "metadata": {
        "id": "IwHCm4JCSQn-"
      },
      "execution_count": null,
      "outputs": []
    },
    {
      "cell_type": "markdown",
      "source": [
        "Нормалізація вхідних даних"
      ],
      "metadata": {
        "id": "q0y1lWk3WA0F"
      }
    },
    {
      "cell_type": "code",
      "source": [
        "x_train = x_train / 255\n",
        "x_test = x_test / 255"
      ],
      "metadata": {
        "id": "02fxLsEQTP3B"
      },
      "execution_count": null,
      "outputs": []
    },
    {
      "cell_type": "markdown",
      "source": [
        "Перетворення вхідних значень в всектор по категоріям"
      ],
      "metadata": {
        "id": "TaWnguMSWHy8"
      }
    },
    {
      "cell_type": "code",
      "source": [
        "y_train_cat = keras.utils.to_categorical(y_train, 10)\n",
        "y_test_cat = keras.utils.to_categorical(y_test, 10)"
      ],
      "metadata": {
        "id": "WyXJaEaVWMEl"
      },
      "execution_count": null,
      "outputs": []
    },
    {
      "cell_type": "markdown",
      "source": [
        "Відображення перших 25 зображень з навчальної вибірки"
      ],
      "metadata": {
        "id": "E5vLjlvRTY00"
      }
    },
    {
      "cell_type": "code",
      "source": [
        "plt.figure(figsize=(10, 5))\n",
        "for i in range(25):\n",
        "  plt.subplot(5, 5, i+1)\n",
        "  plt.xticks([])\n",
        "  plt.yticks([])\n",
        "  plt.imshow(x_train[i], cmap=plt.cm.binary)\n",
        "plt.show()"
      ],
      "metadata": {
        "id": "MBwgn2hhTUd8"
      },
      "execution_count": null,
      "outputs": []
    },
    {
      "cell_type": "markdown",
      "source": [
        "Формуємо модель нейромережі по Adam і критерієм - категоріальна кросс-ентропія"
      ],
      "metadata": {
        "id": "-UOp1sNHVNW8"
      }
    },
    {
      "cell_type": "code",
      "source": [
        "model = keras.Sequential([\n",
        "    Flatten(input_shape=(28, 28, 1)),\n",
        "    Dense(128, activation='relu'),\n",
        "    Dense(10, activation='softmax')\n",
        "])\n",
        "\n",
        "print(model.summary())"
      ],
      "metadata": {
        "id": "SKIWaEoQVMYn"
      },
      "execution_count": null,
      "outputs": []
    },
    {
      "cell_type": "code",
      "source": [
        "model.compile(optimizer='adam', loss='categorical_crossentropy', metrics=['accuracy'])"
      ],
      "metadata": {
        "id": "JxH0d1xbXfaA"
      },
      "execution_count": null,
      "outputs": []
    },
    {
      "cell_type": "code",
      "source": [
        "model.fit(x_train, y_train_cat, batch_size=32, epochs=5, validation_split=0.2)"
      ],
      "metadata": {
        "id": "K2L3qWrwYBDb"
      },
      "execution_count": null,
      "outputs": []
    },
    {
      "cell_type": "code",
      "source": [
        "model.evaluate(x_test, y_test_cat)"
      ],
      "metadata": {
        "id": "R9ShM5xbZ0sA"
      },
      "execution_count": null,
      "outputs": []
    },
    {
      "cell_type": "markdown",
      "source": [
        "Первірка розпізнавання цифр"
      ],
      "metadata": {
        "id": "mJc2BTmCaMth"
      }
    },
    {
      "cell_type": "code",
      "source": [
        "n = 3\n",
        "x1 = x_test[n]\n",
        "x = np.expand_dims(x_test[n], axis=0)\n",
        "x = x_test[n]\n",
        "print( res )\n",
        "print( f\"Розпізнавання цифр: {np.argmax(res)}\")\n",
        "\n",
        "plt.imshow(x_test[n], cmap=plt.cm.binary)\n",
        "plt.show()"
      ],
      "metadata": {
        "id": "sa7vFQyOaLuC"
      },
      "execution_count": null,
      "outputs": []
    },
    {
      "cell_type": "markdown",
      "source": [
        "Розпізнавання всієї тестової вибірки"
      ],
      "metadata": {
        "id": "Pmi29sYKceYc"
      }
    },
    {
      "cell_type": "code",
      "source": [
        "pred = model.predict(x_test)\n",
        "pred = np.argmax(pred, axis=1)"
      ],
      "metadata": {
        "id": "sBj-Z2SZciGQ"
      },
      "execution_count": null,
      "outputs": []
    },
    {
      "cell_type": "markdown",
      "source": [
        "Виділяємо неправильні результати"
      ],
      "metadata": {
        "id": "dIrB33tkdGoE"
      }
    },
    {
      "cell_type": "code",
      "source": [
        "mask = pred == y_test\n",
        "print(mask[:10])\n",
        "\n",
        "x_false = x_test[~mask]\n",
        "p_false = pred[~mask]\n",
        "\n",
        "print(x_false.shape)"
      ],
      "metadata": {
        "colab": {
          "base_uri": "https://localhost:8080/"
        },
        "id": "QSPmQhDWdI5J",
        "outputId": "edef8e11-03f0-4cfc-c722-0e41caf1146d"
      },
      "execution_count": null,
      "outputs": [
        {
          "output_type": "stream",
          "name": "stdout",
          "text": [
            "[ True  True  True  True  True  True  True  True  True  True]\n",
            "(248, 28, 28)\n"
          ]
        }
      ]
    },
    {
      "cell_type": "markdown",
      "source": [
        "Вивід перших 5 неправильних зображень"
      ],
      "metadata": {
        "id": "QDBnA0LKd3kI"
      }
    },
    {
      "cell_type": "code",
      "source": [
        "for i in range(5):\n",
        "  print('Значення:', str(y_test[i]))\n",
        "  plt.imshow(x_false[i], cmap=plt.cm.binary)\n",
        "  plt.show()"
      ],
      "metadata": {
        "id": "y8EA_1QJd6yU"
      },
      "execution_count": null,
      "outputs": []
    }
  ]
}